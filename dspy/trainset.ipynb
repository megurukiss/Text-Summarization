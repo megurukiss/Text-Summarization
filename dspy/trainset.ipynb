{
 "cells": [
  {
   "cell_type": "code",
   "execution_count": 1,
   "metadata": {},
   "outputs": [],
   "source": [
    "import pandas as pd\n",
    "val_file_path='~/Downloads/validation.csv'\n",
    "val_dataset=pd.read_csv(val_file_path)\n",
    "# use first 50 rows for dataset\n",
    "train_dataset = val_dataset.head(10)\n",
    "val_dataset = val_dataset.tail(40)"
   ]
  },
  {
   "cell_type": "code",
   "execution_count": 2,
   "metadata": {},
   "outputs": [
    {
     "name": "stderr",
     "output_type": "stream",
     "text": [
      "/Users/meguru_kiss/anaconda3/envs/textsum/lib/python3.10/site-packages/tqdm/auto.py:21: TqdmWarning: IProgress not found. Please update jupyter and ipywidgets. See https://ipywidgets.readthedocs.io/en/stable/user_install.html\n",
      "  from .autonotebook import tqdm as notebook_tqdm\n"
     ]
    }
   ],
   "source": [
    "import dspy\n",
    "from dspy_utils import summarize_df\n",
    "# for first 5 rows in train_dataset, use formal\n",
    "res1=summarize_df(train_dataset.head(5),style='formal')"
   ]
  },
  {
   "cell_type": "code",
   "execution_count": 4,
   "metadata": {},
   "outputs": [],
   "source": [
    "# for the rest 5 rows in train_dataset, use informal\n",
    "res2=summarize_df(train_dataset.tail(5),style='casual')"
   ]
  },
  {
   "cell_type": "code",
   "execution_count": 5,
   "metadata": {},
   "outputs": [
    {
     "data": {
      "text/html": [
       "<div>\n",
       "<style scoped>\n",
       "    .dataframe tbody tr th:only-of-type {\n",
       "        vertical-align: middle;\n",
       "    }\n",
       "\n",
       "    .dataframe tbody tr th {\n",
       "        vertical-align: top;\n",
       "    }\n",
       "\n",
       "    .dataframe thead th {\n",
       "        text-align: right;\n",
       "    }\n",
       "</style>\n",
       "<table border=\"1\" class=\"dataframe\">\n",
       "  <thead>\n",
       "    <tr style=\"text-align: right;\">\n",
       "      <th></th>\n",
       "      <th>documents</th>\n",
       "      <th>summaries</th>\n",
       "      <th>summary_scores</th>\n",
       "      <th>gt_scores</th>\n",
       "    </tr>\n",
       "  </thead>\n",
       "  <tbody>\n",
       "    <tr>\n",
       "      <th>0</th>\n",
       "      <td>Sally Forrest, an actress-dancer who graced th...</td>\n",
       "      <td>Sally Forrest, an acclaimed actress-dancer kno...</td>\n",
       "      <td>9</td>\n",
       "      <td>7</td>\n",
       "    </tr>\n",
       "    <tr>\n",
       "      <th>1</th>\n",
       "      <td>A middle-school teacher in China has inked hun...</td>\n",
       "      <td>Wang Lian, a politics teacher in Nanjing, has ...</td>\n",
       "      <td>8</td>\n",
       "      <td>7</td>\n",
       "    </tr>\n",
       "    <tr>\n",
       "      <th>2</th>\n",
       "      <td>A man convicted of killing the father and sist...</td>\n",
       "      <td>Iftekhar Murtaza, 30, was sentenced to death f...</td>\n",
       "      <td>8</td>\n",
       "      <td>8</td>\n",
       "    </tr>\n",
       "    <tr>\n",
       "      <th>3</th>\n",
       "      <td>Avid rugby fan Prince Harry could barely watch...</td>\n",
       "      <td>Prince Harry, an avid rugby fan, watched anxio...</td>\n",
       "      <td>9</td>\n",
       "      <td>8</td>\n",
       "    </tr>\n",
       "    <tr>\n",
       "      <th>4</th>\n",
       "      <td>A Triple M Radio producer has been inundated w...</td>\n",
       "      <td>Nick Slater, a producer at Triple M Radio, rec...</td>\n",
       "      <td>8</td>\n",
       "      <td>8</td>\n",
       "    </tr>\n",
       "    <tr>\n",
       "      <th>0</th>\n",
       "      <td>The team with the lowest transfer outlay this ...</td>\n",
       "      <td>Stoke City is having a fantastic season, sitti...</td>\n",
       "      <td>8</td>\n",
       "      <td>7</td>\n",
       "    </tr>\n",
       "    <tr>\n",
       "      <th>1</th>\n",
       "      <td>A team from a Spanish university . has discove...</td>\n",
       "      <td>A Spanish university team found the oldest pro...</td>\n",
       "      <td>7</td>\n",
       "      <td>6</td>\n",
       "    </tr>\n",
       "    <tr>\n",
       "      <th>2</th>\n",
       "      <td>A doctor who made a stand against sexism in me...</td>\n",
       "      <td>Dr. Ashleigh Witt, a medical registrar, called...</td>\n",
       "      <td>8</td>\n",
       "      <td>8</td>\n",
       "    </tr>\n",
       "    <tr>\n",
       "      <th>3</th>\n",
       "      <td>Ronda Rousey recorded the fastest-ever finish ...</td>\n",
       "      <td>Ronda Rousey made history by submitting Cat Zi...</td>\n",
       "      <td>8</td>\n",
       "      <td>7</td>\n",
       "    </tr>\n",
       "    <tr>\n",
       "      <th>4</th>\n",
       "      <td>Celtic defender Virgil van Dijk admits he fear...</td>\n",
       "      <td>Virgil van Dijk was relieved to have his red c...</td>\n",
       "      <td>8</td>\n",
       "      <td>8</td>\n",
       "    </tr>\n",
       "  </tbody>\n",
       "</table>\n",
       "</div>"
      ],
      "text/plain": [
       "                                           documents  \\\n",
       "0  Sally Forrest, an actress-dancer who graced th...   \n",
       "1  A middle-school teacher in China has inked hun...   \n",
       "2  A man convicted of killing the father and sist...   \n",
       "3  Avid rugby fan Prince Harry could barely watch...   \n",
       "4  A Triple M Radio producer has been inundated w...   \n",
       "0  The team with the lowest transfer outlay this ...   \n",
       "1  A team from a Spanish university . has discove...   \n",
       "2  A doctor who made a stand against sexism in me...   \n",
       "3  Ronda Rousey recorded the fastest-ever finish ...   \n",
       "4  Celtic defender Virgil van Dijk admits he fear...   \n",
       "\n",
       "                                           summaries  summary_scores  \\\n",
       "0  Sally Forrest, an acclaimed actress-dancer kno...               9   \n",
       "1  Wang Lian, a politics teacher in Nanjing, has ...               8   \n",
       "2  Iftekhar Murtaza, 30, was sentenced to death f...               8   \n",
       "3  Prince Harry, an avid rugby fan, watched anxio...               9   \n",
       "4  Nick Slater, a producer at Triple M Radio, rec...               8   \n",
       "0  Stoke City is having a fantastic season, sitti...               8   \n",
       "1  A Spanish university team found the oldest pro...               7   \n",
       "2  Dr. Ashleigh Witt, a medical registrar, called...               8   \n",
       "3  Ronda Rousey made history by submitting Cat Zi...               8   \n",
       "4  Virgil van Dijk was relieved to have his red c...               8   \n",
       "\n",
       "   gt_scores  \n",
       "0          7  \n",
       "1          7  \n",
       "2          8  \n",
       "3          8  \n",
       "4          8  \n",
       "0          7  \n",
       "1          6  \n",
       "2          8  \n",
       "3          7  \n",
       "4          8  "
      ]
     },
     "execution_count": 5,
     "metadata": {},
     "output_type": "execute_result"
    }
   ],
   "source": [
    "# convert to pandas dataframe\n",
    "res1=pd.DataFrame(res1)\n",
    "res2=pd.DataFrame(res2)\n",
    "# combine res1 and res2\n",
    "res=pd.concat([res1,res2])\n",
    "res"
   ]
  },
  {
   "cell_type": "code",
   "execution_count": 6,
   "metadata": {},
   "outputs": [],
   "source": [
    "# save to csv\n",
    "res.to_csv('./train.csv',index=False)"
   ]
  },
  {
   "cell_type": "code",
   "execution_count": 7,
   "metadata": {},
   "outputs": [
    {
     "data": {
      "text/plain": [
       "\"Sally Forrest, an actress-dancer who graced the silver screen throughout the '40s and '50s in MGM musicals and films such as the 1956 noir While the City Sleeps died on March 15 at her home in Beverly Hills, California. Forrest, whose birth name was Katherine Feeney, was 86 and had long battled cancer. Her publicist, Judith Goffin, announced the news Thursday. Scroll down for video . Actress: Sally Forrest was in the 1951 Ida Lupino-directed film 'Hard, Fast and Beautiful' (left) and the 1956 Fritz Lang movie 'While the City Sleeps' A San Diego native, Forrest became a protege of Hollywood trailblazer Ida Lupino, who cast her in starring roles in films including the critical and commercial success Not Wanted, Never Fear and Hard, Fast and Beautiful. Some of Forrest's other film credits included Bannerline, Son of Sinbad, and Excuse My Dust, according to her iMDB\\xa0page. The page also indicates Forrest was in multiple Climax! and Rawhide television episodes. Forrest appeared as herself in an episode of The Ed Sullivan Show and three episodes of The Dinah Shore Chevy Show, her iMDB page says. She also starred in a Broadway production of The Seven Year Itch. City News Service reported that other stage credits included As You Like It, No, No, Nanette and Damn Yankees. Forrest married writer-producer Milo Frank in 1951. He died in 2004. She is survived by her niece, Sharon Durham, and nephews, Michael and Mark Feeney. Career: A San Diego native, Forrest became a protege of Hollywood trailblazer Ida Lupino, who cast her in starring roles in films .\""
      ]
     },
     "execution_count": 7,
     "metadata": {},
     "output_type": "execute_result"
    }
   ],
   "source": [
    "res.iloc[0]['documents']"
   ]
  },
  {
   "cell_type": "code",
   "execution_count": 8,
   "metadata": {},
   "outputs": [
    {
     "data": {
      "text/plain": [
       "'Sally Forrest, an acclaimed actress-dancer known for her roles in MGM musicals and films, passed away on March 15 at 86 after battling cancer. A protégé of Ida Lupino, she starred in notable films and had a successful theatre career. Forrest is survived by her niece and nephews.'"
      ]
     },
     "execution_count": 8,
     "metadata": {},
     "output_type": "execute_result"
    }
   ],
   "source": [
    "res.iloc[0]['summaries']"
   ]
  },
  {
   "cell_type": "markdown",
   "metadata": {},
   "source": [
    "# What\n",
    "You are a expert to summarize documents with personal preferences. Now given the original document, the summary, and the preferences, you need to evaluate the summary based on the preferences, give a score from 0 to 10. And you need to refine the summary to get a better score.\n",
    "\n",
    "# Document\n",
    "\n",
    "# Summary\n",
    "\n",
    "# Preferences\n",
    "- length: 50\n",
    "- style: formal"
   ]
  }
 ],
 "metadata": {
  "kernelspec": {
   "display_name": "textsum",
   "language": "python",
   "name": "python3"
  },
  "language_info": {
   "codemirror_mode": {
    "name": "ipython",
    "version": 3
   },
   "file_extension": ".py",
   "mimetype": "text/x-python",
   "name": "python",
   "nbconvert_exporter": "python",
   "pygments_lexer": "ipython3",
   "version": "3.10.15"
  }
 },
 "nbformat": 4,
 "nbformat_minor": 2
}
