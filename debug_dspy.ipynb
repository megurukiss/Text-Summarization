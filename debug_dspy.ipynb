{
 "cells": [
  {
   "cell_type": "code",
   "execution_count": 31,
   "metadata": {},
   "outputs": [],
   "source": [
    "import dspy\n",
    "import os\n",
    "from dotenv import load_dotenv\n",
    "load_dotenv(dotenv_path='./../.env')\n",
    "lm = dspy.LM('openai/gpt-4o-mini', api_key=os.getenv('OPENAI_API_KEY'),temperature=0.7)\n",
    "dspy.configure(lm=lm)"
   ]
  },
  {
   "cell_type": "code",
   "execution_count": 2,
   "metadata": {},
   "outputs": [
    {
     "name": "stdout",
     "output_type": "stream",
     "text": [
      "Lee, a 21-year-old footballer, made seven appearances for the Hammers, scoring once in a Europa League match. He had loan spells at Blackpool and Colchester United, scoring twice but could not help Colchester avoid relegation. His contract details with the Tykes remain undisclosed.\n"
     ]
    }
   ],
   "source": [
    "document = \"\"\"The 21-year-old made seven appearances for the Hammers and netted his only goal for them in a Europa League qualification round match against Andorran side FC Lustrains last season. Lee had two loan spells in League One last term, with Blackpool and then Colchester United. He scored twice for the U's but was unable to save them from relegation. The length of Lee's contract with the promoted Tykes has not been revealed. Find all the latest football transfers on our dedicated page.\"\"\"\n",
    "\n",
    "summarize = dspy.ChainOfThought('document -> summary')\n",
    "response = summarize(document=document)\n",
    "\n",
    "print(response.summary)"
   ]
  },
  {
   "cell_type": "markdown",
   "metadata": {},
   "source": [
    "## signature"
   ]
  },
  {
   "cell_type": "code",
   "execution_count": 26,
   "metadata": {},
   "outputs": [],
   "source": [
    "class PersonalizedSummary(dspy.Signature):\n",
    "    document: str = dspy.InputField(desc=\"The document to summarize\")\n",
    "    length: int = dspy.InputField(desc=\"The maximum length of the summary\")\n",
    "    content_preference: str = dspy.InputField(desc=\"The topic that you want to focus on in the summary\")\n",
    "    style: str = dspy.InputField(default=\"formal\", desc=\"The style of the summary, either 'formal' or 'casual'\")\n",
    "    wiki_knowledge: str = dspy.InputField(default=False, desc=\"May contain relevant facts, include the information in the summary\")\n",
    "    summary: str = dspy.OutputField(desc=\"The summary of the document\")\n",
    "    \n",
    "# summarize = dspy.ChainOfThought(PersonalizedSummary)\n",
    "# response = summarize(document=document,length=50,content_preference=\"football\", style=\"casual\", wiki_knowledge=\"\")\n",
    "# print(response.summary)"
   ]
  },
  {
   "cell_type": "markdown",
   "metadata": {},
   "source": [
    "## LLM evaluation"
   ]
  },
  {
   "cell_type": "code",
   "execution_count": 46,
   "metadata": {},
   "outputs": [],
   "source": [
    "class Assess(dspy.Signature):\n",
    "    summary_text = dspy.InputField(desc=\"The summary text, evaluated based on whether the length, content, and style personalization preferences are met\")\n",
    "    length: int = dspy.InputField(desc=\"The maximum length of the summary\")\n",
    "    content_preference: str = dspy.InputField(desc=\"The topic that you want to focus on in the summary\")\n",
    "    style: str = dspy.InputField(default=\"formal\", desc=\"The style of the summary, either 'formal' or 'casual'\")\n",
    "    score: int = dspy.OutputField(desc=\"The score of the summary, between 0 and 100\")\n",
    "\n",
    "class Compare(dspy.Signature):\n",
    "    summary_text = dspy.InputField(desc=\"The summary text\")\n",
    "    ground_truth_summary = dspy.InputField(desc=\"The ground truth summary text\")\n",
    "    score: int = dspy.OutputField(desc=\"The score of the summary text, between 0 and 100\")\n",
    "    \n",
    "\n",
    "def assess(summary_text, length, content_preference, style):\n",
    "    score=dspy.Predict(Assess)(summary_text=summary_text,length=length,content_preference=content_preference,style=style).score\n",
    "    return score\n",
    "\n",
    "def metric(summary_text1, summary_text2):\n",
    "    score=dspy.Predict(Compare)(summary_text=summary_text1,ground_truth_summary=summary_text2).score\n",
    "    return score"
   ]
  },
  {
   "cell_type": "code",
   "execution_count": 10,
   "metadata": {},
   "outputs": [
    {
     "data": {
      "text/plain": [
       "70"
      ]
     },
     "execution_count": 10,
     "metadata": {},
     "output_type": "execute_result"
    }
   ],
   "source": [
    "text=\"Lee, a 21-year-old footballer, made seven appearances for the Hammers, scoring once in a Europa League match. He had loan spells at Blackpool and Colchester United, scoring twice but could not help Colchester avoid relegation. His contract details with the Tykes remain undisclosed.\"\n",
    "assess(summary_text=response.summary,length=50,content_preference=\"football\", style=\"casual\")"
   ]
  },
  {
   "cell_type": "markdown",
   "metadata": {},
   "source": [
    "## Background knowledge"
   ]
  },
  {
   "cell_type": "markdown",
   "metadata": {},
   "source": [
    "### add retriever"
   ]
  },
  {
   "cell_type": "code",
   "execution_count": 27,
   "metadata": {},
   "outputs": [],
   "source": [
    "colbertv2_wiki17_abstracts = dspy.ColBERTv2(url='http://20.102.90.50:2017/wiki17_abstracts')\n",
    "dspy.settings.configure(rm=colbertv2_wiki17_abstracts)\n",
    "\n",
    "class KeyWords(dspy.Signature):\n",
    "    document: str = dspy.InputField(desc=\"The document to extract keywords from\")\n",
    "    keywords: list = dspy.OutputField(desc=\"The top 10 keywords extracted from the document\")\n",
    "\n",
    "class SummaryPipeline(dspy.Module):\n",
    "    def __init__(self, wiki_knowledge=False):\n",
    "        self.wiki_knowledge = wiki_knowledge\n",
    "        if wiki_knowledge:\n",
    "            self.retriever = dspy.Retrieve(k=3)\n",
    "            self.keywords = dspy.ChainOfThought(KeyWords)\n",
    "        self.summarizer = dspy.ChainOfThought(PersonalizedSummary)\n",
    "    \n",
    "    def forward(self, document, content_preference=\"\", length=50, style=\"formal\"):\n",
    "        wiki_knowledge=\"\"\n",
    "        if self.wiki_knowledge:\n",
    "            key_words = self.keywords(document=document).keywords\n",
    "            # Retrieve relevant documents\n",
    "            wiki_knowledge = self.retriever(query=key_words).passages\n",
    "        # Summarize the relevant documents\n",
    "        summary = self.summarizer(document=document, content_preference=content_preference, length=length, style=style, wiki_knowledge=wiki_knowledge).summary\n",
    "        return summary"
   ]
  },
  {
   "cell_type": "markdown",
   "metadata": {},
   "source": [
    "## Examples"
   ]
  },
  {
   "cell_type": "code",
   "execution_count": 28,
   "metadata": {},
   "outputs": [],
   "source": [
    "summary_pipeline = SummaryPipeline(wiki_knowledge=True)\n",
    "response = summary_pipeline(document=document)"
   ]
  },
  {
   "cell_type": "code",
   "execution_count": 35,
   "metadata": {},
   "outputs": [
    {
     "data": {
      "text/plain": [
       "'The 21-year-old footballer made seven appearances for the Hammers, scoring once in a Europa League match. He had loan spells at Blackpool and Colchester United, netting twice for the latter. His contract details with the Tykes remain undisclosed.'"
      ]
     },
     "execution_count": 35,
     "metadata": {},
     "output_type": "execute_result"
    }
   ],
   "source": [
    "response"
   ]
  },
  {
   "cell_type": "code",
   "execution_count": 34,
   "metadata": {},
   "outputs": [
    {
     "data": {
      "text/plain": [
       "60"
      ]
     },
     "execution_count": 34,
     "metadata": {},
     "output_type": "execute_result"
    }
   ],
   "source": [
    "metric(summary_text=\"\",length=50,content_preference=\"football\", style=\"formal\")"
   ]
  },
  {
   "cell_type": "markdown",
   "metadata": {},
   "source": [
    "## Optimization"
   ]
  },
  {
   "cell_type": "code",
   "execution_count": 47,
   "metadata": {},
   "outputs": [
    {
     "name": "stderr",
     "output_type": "stream",
     "text": [
      "2024/12/01 22:15:45 INFO dspy.evaluate.evaluate: Average Metric: 85 / 1 (8500.0%)\n"
     ]
    },
    {
     "data": {
      "text/plain": [
       "8500.0"
      ]
     },
     "execution_count": 47,
     "metadata": {},
     "output_type": "execute_result"
    }
   ],
   "source": [
    "document = \"\"\"The 21-year-old made seven appearances for the Hammers and netted his only goal for them in a Europa League qualification round match against Andorran side FC Lustrains last season. Lee had two loan spells in League One last term, with Blackpool and then Colchester United. He scored twice for the U's but was unable to save them from relegation. The length of Lee's contract with the promoted Tykes has not been revealed. Find all the latest football transfers on our dedicated page.\"\"\"\n",
    "length=50\n",
    "content_preference=\"football\"\n",
    "style=\"formal\"\n",
    "summary='The 21-year-old footballer made seven appearances for the Hammers, scoring once in a Europa League match. He had loan spells at Blackpool and Colchester United, netting twice for the latter. His contract details with the Tykes remain undisclosed.'\n",
    "\n",
    "trainset=[dspy.Example(document=document,length=length,content_preference=content_preference,style=style,summary=summary).with_inputs(\"document\", \"content_preference\", \"length\", \"style\")]\n",
    "evaluate=dspy.Evaluate(devset=trainset,metric=metric)\n",
    "summary_pipeline=SummaryPipeline(wiki_knowledge=False)\n",
    "evaluate(summary_pipeline)"
   ]
  },
  {
   "cell_type": "code",
   "execution_count": 48,
   "metadata": {},
   "outputs": [
    {
     "name": "stderr",
     "output_type": "stream",
     "text": [
      "  0%|          | 0/1 [00:00<?, ?it/s]2024/12/01 22:17:28 ERROR dspy.teleprompt.bootstrap: Failed to run or to evaluate example Example({'document': \"The 21-year-old made seven appearances for the Hammers and netted his only goal for them in a Europa League qualification round match against Andorran side FC Lustrains last season. Lee had two loan spells in League One last term, with Blackpool and then Colchester United. He scored twice for the U's but was unable to save them from relegation. The length of Lee's contract with the promoted Tykes has not been revealed. Find all the latest football transfers on our dedicated page.\", 'length': 50, 'content_preference': 'football', 'style': 'formal', 'summary': 'The 21-year-old footballer made seven appearances for the Hammers, scoring once in a Europa League match. He had loan spells at Blackpool and Colchester United, netting twice for the latter. His contract details with the Tykes remain undisclosed.'}) (input_keys={'content_preference', 'document', 'style', 'length'}) with <function metric at 0x114c6a5f0> due to metric() takes 2 positional arguments but 3 were given.\n",
      "100%|██████████| 1/1 [00:00<00:00, 288.03it/s]"
     ]
    },
    {
     "name": "stdout",
     "output_type": "stream",
     "text": [
      "Bootstrapped 0 full traces after 0 examples for up to 1 rounds, amounting to 1 attempts.\n"
     ]
    },
    {
     "name": "stderr",
     "output_type": "stream",
     "text": [
      "\n"
     ]
    }
   ],
   "source": [
    "from dspy.teleprompt import BootstrapFewShot\n",
    "teleprompt = BootstrapFewShot(metric=metric)\n",
    "compiled_predictor=teleprompt.compile(summary_pipeline,trainset=trainset)"
   ]
  },
  {
   "cell_type": "code",
   "execution_count": 49,
   "metadata": {},
   "outputs": [
    {
     "name": "stderr",
     "output_type": "stream",
     "text": [
      "2024/12/01 22:17:38 INFO dspy.evaluate.evaluate: Average Metric: 85 / 1 (8500.0%)\n"
     ]
    },
    {
     "data": {
      "text/plain": [
       "8500.0"
      ]
     },
     "execution_count": 49,
     "metadata": {},
     "output_type": "execute_result"
    }
   ],
   "source": [
    "evaluate(compiled_predictor)"
   ]
  },
  {
   "cell_type": "code",
   "execution_count": null,
   "metadata": {},
   "outputs": [],
   "source": []
  }
 ],
 "metadata": {
  "kernelspec": {
   "display_name": "textsum",
   "language": "python",
   "name": "python3"
  },
  "language_info": {
   "codemirror_mode": {
    "name": "ipython",
    "version": 3
   },
   "file_extension": ".py",
   "mimetype": "text/x-python",
   "name": "python",
   "nbconvert_exporter": "python",
   "pygments_lexer": "ipython3",
   "version": "3.10.15"
  }
 },
 "nbformat": 4,
 "nbformat_minor": 2
}
