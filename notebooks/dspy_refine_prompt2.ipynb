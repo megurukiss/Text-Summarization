{
 "cells": [
  {
   "cell_type": "code",
   "execution_count": 1,
   "metadata": {},
   "outputs": [],
   "source": [
    "import pandas as pd\n",
    "val_file_path='~/Downloads/validation.csv'\n",
    "val_dataset=pd.read_csv(val_file_path)\n",
    "# use first 50 rows for dataset\n",
    "gt_dataset = val_dataset.head(10)\n",
    "val_dataset = val_dataset.tail(40)"
   ]
  },
  {
   "cell_type": "code",
   "execution_count": 2,
   "metadata": {},
   "outputs": [
    {
     "name": "stderr",
     "output_type": "stream",
     "text": [
      "/Users/meguru_kiss/anaconda3/envs/textsum/lib/python3.10/site-packages/tqdm/auto.py:21: TqdmWarning: IProgress not found. Please update jupyter and ipywidgets. See https://ipywidgets.readthedocs.io/en/stable/user_install.html\n",
      "  from .autonotebook import tqdm as notebook_tqdm\n"
     ]
    }
   ],
   "source": [
    "import dspy\n",
    "train_file_path='./train.csv'\n",
    "train_dataset=pd.read_csv(train_file_path)\n",
    "l=len(train_dataset)\n",
    "trainset=[]\n",
    "for i in range(l):\n",
    "    trainset.append(dspy.Example(document=train_dataset.iloc[i]['documents'], highlights=train_dataset.iloc[i]['summaries'], length=50, style=\"formal\", context=\"\").with_inputs(\"document\",\"length\",\"style\",\"context\"))"
   ]
  },
  {
   "cell_type": "code",
   "execution_count": 3,
   "metadata": {},
   "outputs": [
    {
     "name": "stderr",
     "output_type": "stream",
     "text": [
      "2024/12/07 18:23:45 INFO dspy.teleprompt.mipro_optimizer_v2: \n",
      "RUNNING WITH THE FOLLOWING LIGHT AUTO RUN SETTINGS:\n",
      "num_trials: 7\n",
      "minibatch: False\n",
      "num_candidates: 5\n",
      "valset size: 8\n",
      "\n",
      "2024/12/07 18:23:47 INFO dspy.teleprompt.mipro_optimizer_v2: \n",
      "==> STEP 1: BOOTSTRAP FEWSHOT EXAMPLES <==\n",
      "2024/12/07 18:23:47 INFO dspy.teleprompt.mipro_optimizer_v2: These will be used as few-shot example candidates for our program and for creating instructions.\n",
      "\n",
      "2024/12/07 18:23:47 INFO dspy.teleprompt.mipro_optimizer_v2: Bootstrapping N=5 sets of demonstrations...\n"
     ]
    },
    {
     "name": "stdout",
     "output_type": "stream",
     "text": [
      "Bootstrapping set 1/5\n",
      "Bootstrapping set 2/5\n",
      "Bootstrapping set 3/5\n"
     ]
    },
    {
     "name": "stderr",
     "output_type": "stream",
     "text": [
      "100%|██████████| 2/2 [00:13<00:00,  6.90s/it]\n"
     ]
    },
    {
     "name": "stdout",
     "output_type": "stream",
     "text": [
      "Bootstrapped 2 full traces after 1 examples for up to 1 rounds, amounting to 2 attempts.\n",
      "Bootstrapping set 4/5\n"
     ]
    },
    {
     "name": "stderr",
     "output_type": "stream",
     "text": [
      " 50%|█████     | 1/2 [00:02<00:02,  2.46s/it]\n"
     ]
    },
    {
     "name": "stdout",
     "output_type": "stream",
     "text": [
      "Bootstrapped 1 full traces after 1 examples for up to 1 rounds, amounting to 1 attempts.\n",
      "Bootstrapping set 5/5\n"
     ]
    },
    {
     "name": "stderr",
     "output_type": "stream",
     "text": [
      " 50%|█████     | 1/2 [00:02<00:02,  2.79s/it]\n",
      "2024/12/07 18:24:06 INFO dspy.teleprompt.mipro_optimizer_v2: \n",
      "==> STEP 2: PROPOSE INSTRUCTION CANDIDATES <==\n",
      "2024/12/07 18:24:06 INFO dspy.teleprompt.mipro_optimizer_v2: We will use the few-shot examples from the previous step, a generated dataset summary, a summary of the program code, and a randomly selected prompting tip to propose instructions.\n"
     ]
    },
    {
     "name": "stdout",
     "output_type": "stream",
     "text": [
      "Bootstrapped 1 full traces after 1 examples for up to 1 rounds, amounting to 1 attempts.\n"
     ]
    },
    {
     "name": "stderr",
     "output_type": "stream",
     "text": [
      "2024/12/07 18:24:09 INFO dspy.teleprompt.mipro_optimizer_v2: \n",
      "Proposing instructions...\n",
      "\n",
      "2024/12/07 18:24:26 INFO dspy.teleprompt.mipro_optimizer_v2: Proposed Instructions for Predictor 0:\n",
      "\n",
      "2024/12/07 18:24:26 INFO dspy.teleprompt.mipro_optimizer_v2: 0: Given the fields `document`, `length`, `style`, `context`, produce the fields `summary`.\n",
      "\n",
      "2024/12/07 18:24:26 INFO dspy.teleprompt.mipro_optimizer_v2: 1: Using the provided fields `document`, `length`, `style`, and `context`, create a detailed and concise summary of the document. Ensure that the summary adheres to the specified maximum length and reflects the chosen style, whether formal or casual. Additionally, incorporate any relevant contextual information to enhance the accuracy and depth of the summary. After generating the summary, provide a clear reasoning for the choices made in the summary creation process.\n",
      "\n",
      "2024/12/07 18:24:26 INFO dspy.teleprompt.mipro_optimizer_v2: 2: Create a concise and engaging summary of the provided document, ensuring that it captures the key points and essence of the content. Use the specified maximum length and maintain a formal style. If applicable, incorporate any contextual information to enhance the summary's relevance and clarity.\n",
      "\n",
      "2024/12/07 18:24:26 INFO dspy.teleprompt.mipro_optimizer_v2: 3: You are a skilled summarizer tasked with creating a concise and formal summary of an obituary. Given the fields `document`, `length`, `style`, and `context`, produce the fields `summary` that captures the essential details of the individual's life and contributions, ensuring clarity and adherence to the specified length and style.\n",
      "\n",
      "2024/12/07 18:24:26 INFO dspy.teleprompt.mipro_optimizer_v2: 4: Using the provided fields `document`, `length`, `style`, and `context`, generate a concise and coherent summary of the document that highlights the main points and key contributions of the individual mentioned. Ensure that the summary adheres to the specified `length` and maintains the `style` of writing as formal. Additionally, provide a step-by-step reasoning of how you derived the summary, explaining the thought process behind capturing the essential elements of the document.\n",
      "\n",
      "2024/12/07 18:24:26 INFO dspy.teleprompt.mipro_optimizer_v2: \n",
      "\n",
      "2024/12/07 18:24:26 INFO dspy.teleprompt.mipro_optimizer_v2: Evaluating the default program...\n",
      "\n"
     ]
    },
    {
     "name": "stdout",
     "output_type": "stream",
     "text": [
      "Average Metric: 37.50 / 8 (468.8%): 100%|██████████| 8/8 [00:04<00:00,  1.84it/s]"
     ]
    },
    {
     "name": "stderr",
     "output_type": "stream",
     "text": [
      "2024/12/07 18:24:30 INFO dspy.evaluate.evaluate: Average Metric: 37.5 / 8 (468.8%)\n",
      "2024/12/07 18:24:30 INFO dspy.teleprompt.mipro_optimizer_v2: Default program score: 468.75\n",
      "\n",
      "2024/12/07 18:24:30 INFO dspy.teleprompt.mipro_optimizer_v2: ==> STEP 3: FINDING OPTIMAL PROMPT PARAMETERS <==\n",
      "2024/12/07 18:24:30 INFO dspy.teleprompt.mipro_optimizer_v2: We will evaluate the program over a series of trials with different combinations of instructions and few-shot examples to find the optimal combination using Bayesian Optimization.\n",
      "\n",
      "/Users/meguru_kiss/anaconda3/envs/textsum/lib/python3.10/site-packages/optuna/_experimental.py:31: ExperimentalWarning: Argument ``multivariate`` is an experimental feature. The interface can change in the future.\n",
      "  warnings.warn(\n",
      "2024/12/07 18:24:30 INFO dspy.teleprompt.mipro_optimizer_v2: ===== Trial 1 / 7 =====\n"
     ]
    },
    {
     "name": "stdout",
     "output_type": "stream",
     "text": [
      "\n",
      "Average Metric: 55.00 / 8 (687.5%): 100%|██████████| 8/8 [00:04<00:00,  1.82it/s]"
     ]
    },
    {
     "name": "stderr",
     "output_type": "stream",
     "text": [
      "2024/12/07 18:24:35 INFO dspy.evaluate.evaluate: Average Metric: 55.0 / 8 (687.5%)\n",
      "2024/12/07 18:24:35 INFO dspy.teleprompt.mipro_optimizer_v2: \u001b[92mBest full score so far!\u001b[0m Score: 687.5\n",
      "2024/12/07 18:24:35 INFO dspy.teleprompt.mipro_optimizer_v2: Score: 687.5 with parameters ['Predictor 0: Instruction 1', 'Predictor 0: Few-Shot Set 1'].\n",
      "2024/12/07 18:24:35 INFO dspy.teleprompt.mipro_optimizer_v2: Scores so far: [468.75, 687.5]\n",
      "2024/12/07 18:24:35 INFO dspy.teleprompt.mipro_optimizer_v2: Best score so far: 687.5\n",
      "2024/12/07 18:24:35 INFO dspy.teleprompt.mipro_optimizer_v2: =======================\n",
      "\n",
      "\n",
      "2024/12/07 18:24:35 INFO dspy.teleprompt.mipro_optimizer_v2: ===== Trial 2 / 7 =====\n"
     ]
    },
    {
     "name": "stdout",
     "output_type": "stream",
     "text": [
      "\n",
      "Average Metric: 50.00 / 8 (625.0%): 100%|██████████| 8/8 [00:04<00:00,  1.93it/s]"
     ]
    },
    {
     "name": "stderr",
     "output_type": "stream",
     "text": [
      "2024/12/07 18:24:39 INFO dspy.evaluate.evaluate: Average Metric: 50.0 / 8 (625.0%)\n",
      "2024/12/07 18:24:39 INFO dspy.teleprompt.mipro_optimizer_v2: Score: 625.0 with parameters ['Predictor 0: Instruction 2', 'Predictor 0: Few-Shot Set 1'].\n",
      "2024/12/07 18:24:39 INFO dspy.teleprompt.mipro_optimizer_v2: Scores so far: [468.75, 687.5, 625.0]\n",
      "2024/12/07 18:24:39 INFO dspy.teleprompt.mipro_optimizer_v2: Best score so far: 687.5\n",
      "2024/12/07 18:24:39 INFO dspy.teleprompt.mipro_optimizer_v2: =======================\n",
      "\n",
      "\n",
      "2024/12/07 18:24:39 INFO dspy.teleprompt.mipro_optimizer_v2: ===== Trial 3 / 7 =====\n"
     ]
    },
    {
     "name": "stdout",
     "output_type": "stream",
     "text": [
      "\n",
      "Average Metric: 57.50 / 8 (718.8%): 100%|██████████| 8/8 [00:04<00:00,  1.72it/s]"
     ]
    },
    {
     "name": "stderr",
     "output_type": "stream",
     "text": [
      "2024/12/07 18:24:44 INFO dspy.evaluate.evaluate: Average Metric: 57.5 / 8 (718.8%)\n",
      "2024/12/07 18:24:44 INFO dspy.teleprompt.mipro_optimizer_v2: \u001b[92mBest full score so far!\u001b[0m Score: 718.75\n",
      "2024/12/07 18:24:44 INFO dspy.teleprompt.mipro_optimizer_v2: Score: 718.75 with parameters ['Predictor 0: Instruction 4', 'Predictor 0: Few-Shot Set 1'].\n",
      "2024/12/07 18:24:44 INFO dspy.teleprompt.mipro_optimizer_v2: Scores so far: [468.75, 687.5, 625.0, 718.75]\n",
      "2024/12/07 18:24:44 INFO dspy.teleprompt.mipro_optimizer_v2: Best score so far: 718.75\n",
      "2024/12/07 18:24:44 INFO dspy.teleprompt.mipro_optimizer_v2: =======================\n",
      "\n",
      "\n",
      "2024/12/07 18:24:44 INFO dspy.teleprompt.mipro_optimizer_v2: ===== Trial 4 / 7 =====\n"
     ]
    },
    {
     "name": "stdout",
     "output_type": "stream",
     "text": [
      "\n",
      "Average Metric: 47.50 / 8 (593.8%): 100%|██████████| 8/8 [00:05<00:00,  1.43it/s]"
     ]
    },
    {
     "name": "stderr",
     "output_type": "stream",
     "text": [
      "2024/12/07 18:24:49 INFO dspy.evaluate.evaluate: Average Metric: 47.5 / 8 (593.8%)\n",
      "2024/12/07 18:24:49 INFO dspy.teleprompt.mipro_optimizer_v2: Score: 593.75 with parameters ['Predictor 0: Instruction 2', 'Predictor 0: Few-Shot Set 1'].\n",
      "2024/12/07 18:24:49 INFO dspy.teleprompt.mipro_optimizer_v2: Scores so far: [468.75, 687.5, 625.0, 718.75, 593.75]\n",
      "2024/12/07 18:24:49 INFO dspy.teleprompt.mipro_optimizer_v2: Best score so far: 718.75\n",
      "2024/12/07 18:24:49 INFO dspy.teleprompt.mipro_optimizer_v2: =======================\n",
      "\n",
      "\n",
      "2024/12/07 18:24:49 INFO dspy.teleprompt.mipro_optimizer_v2: ===== Trial 5 / 7 =====\n"
     ]
    },
    {
     "name": "stdout",
     "output_type": "stream",
     "text": [
      "\n",
      "Average Metric: 42.50 / 8 (531.2%): 100%|██████████| 8/8 [00:06<00:00,  1.23it/s]"
     ]
    },
    {
     "name": "stderr",
     "output_type": "stream",
     "text": [
      "2024/12/07 18:24:56 INFO dspy.evaluate.evaluate: Average Metric: 42.5 / 8 (531.2%)\n",
      "2024/12/07 18:24:56 INFO dspy.teleprompt.mipro_optimizer_v2: Score: 531.25 with parameters ['Predictor 0: Instruction 4', 'Predictor 0: Few-Shot Set 3'].\n",
      "2024/12/07 18:24:56 INFO dspy.teleprompt.mipro_optimizer_v2: Scores so far: [468.75, 687.5, 625.0, 718.75, 593.75, 531.25]\n",
      "2024/12/07 18:24:56 INFO dspy.teleprompt.mipro_optimizer_v2: Best score so far: 718.75\n",
      "2024/12/07 18:24:56 INFO dspy.teleprompt.mipro_optimizer_v2: =======================\n",
      "\n",
      "\n",
      "2024/12/07 18:24:56 INFO dspy.teleprompt.mipro_optimizer_v2: ===== Trial 6 / 7 =====\n"
     ]
    },
    {
     "name": "stdout",
     "output_type": "stream",
     "text": [
      "\n",
      "  0%|          | 0/8 [00:00<?, ?it/s]"
     ]
    },
    {
     "name": "stderr",
     "output_type": "stream",
     "text": [
      "2024/12/07 18:25:00 ERROR dspy.utils.parallelizer: Error processing item Example({'document': \"A team from a Spanish university . has discovered what Egyptian  authorities are calling the . world's oldest evidence of breast cancer in the 4,200-year-old . skeleton of an adult woman. Antiquities Minister Mamdouh el-Damaty said the bones of the . woman, who lived at the end of the 6th Pharaonic Dynasty, showed . 'an extraordinary deterioration'. 'The study of her remains shows the typical destructive . damage provoked by the extension of a breast cancer as a . metastasis,' he said in a statement on Tuesday. Antiquities Minister Mamdouh el-Damaty said the bones of the woman, who lived at the end of the 6th Pharaonic Dynasty, showed'an extraordinary deterioration'. According to the World Health Organisation's cancer research agency, new cancer cases rose to an estimated 14 million a year in 2012, a figure seen rising to 22 million within 20 years. Despite being one of the world's leading causes of death . today, cancer is virtually absent in archaeological records . compared to other diseases - which has given rise to the idea . that cancers are mainly attributable to modern lifestyles and to . people living for longer. 'The team from University of Jaen has confirmed that the woman lived at the end of the 6th Dynasty (2200 BCE) and was part of the élite of the southernmost town of Egypt, Elephantine,' the statement said. 'The virulence of the disease impeded her to carry out any kind of labor, but she was treated and taken care during a long period until her death. ' The University of Jaen began the archaeological excavations in Qubbet el-Hawa in 2008 and their major goal is to reconstruct the life and funerary rituals of the governors of Elephantine and their families who lived between 2250 and 1750 BCE. The anthropological team from the University of Jaen saidthe Egyptian woman was an aristocrat from Elephantine, the country's southernmost town. But the finding, along with evidence reported last year by . British researchers of metastatic cancer in a 3,000-year-old . skeleton found in a tomb in modern Sudan, suggests cancer was . around in the Nile Valley in ancient times. The anthropological team from the University of Jaen said . the Egyptian woman was an aristocrat from Elephantine, the . country's southernmost town. Her remains were discovered in the necropolis of Qubbet . el-Hawa, west of the southern city of Aswan, the ministry said. According to the World Health Organisation's cancer research . agency, new cancer cases rose to an estimated 14 million a year . in 2012, a figure seen rising to 22 million within 20 years. The anthropological team from the University of Jaen said the Egyptian woman was an aristocrat from Elephantine, the country's southernmost town (pictured) Other analysis - including examination of the last food found in the stomachs of three horses buried in her tomb - allowed Dr Polesmak to formulate an intriguing account of this woman's final months alive . Last year a unique MRI scan on a 2,500 year old mummified Siberian 'princess' has revealed she died after suffering from acute breast cancer. Preserved in ice in an elaborate grave in the Altai Mountains, the ancient woman - famous for her remarkable tattoos - took cannabis to dull the ravages of her illnesses, experts have also discovered. Dug from her permafrost burial chamber on the high Ukok Plateau in 1993, analysis of her remains earlier highlighted sophisticated tattoos of 'great artistry' of fantastical creatures, while in her tomb was also found clothing and headdresses, a make-up bag, and a stash of cannabis, enabling experts to build a detailed picture of her life and looks. Separately from the MRI, academics also conclude she was a virgin who lived a deliberately 'celibate' life.\", 'highlights': \"A Spanish university team found the oldest proof of breast cancer in a 4,200-year-old Egyptian woman's skeleton. She was an elite from Elephantine, and her remains show significant disease damage. This discovery hints that cancer existed in ancient times, challenging the notion it's just a modern issue.\", 'length': 50, 'style': 'formal', 'context': ''}) (input_keys={'document', 'context', 'style', 'length'}): litellm.RateLimitError: RateLimitError: OpenAIException - Error code: 429 - {'error': {'message': 'Rate limit reached for gpt-4o-mini in organization org-EmJQnOFD8xQufqyzTmGuZd73 on tokens per min (TPM): Limit 200000, Used 198552, Requested 2204. Please try again in 226ms. Visit https://platform.openai.com/account/rate-limits to learn more.', 'type': 'tokens', 'param': None, 'code': 'rate_limit_exceeded'}}. Set `provide_traceback=True` to see the stack trace.\n"
     ]
    },
    {
     "name": "stdout",
     "output_type": "stream",
     "text": [
      "Average Metric: 0.00 / 0 (0%):  12%|█▎        | 1/8 [00:04<00:28,  4.06s/it]"
     ]
    },
    {
     "name": "stderr",
     "output_type": "stream",
     "text": [
      "2024/12/07 18:25:00 ERROR dspy.utils.parallelizer: Error processing item Example({'document': \"The team with the lowest transfer outlay this season rose unassumingly into eighth place on Wednesday night. Stoke City beat Everton, to nobody’s great surprise, and look on course for their best Premier League finish yet – a year after their last. Mark Hughes really should be in the running for those annual accolades saluting success amid all this. Manager of the Year? Quite possibly. Mark Hughes looks on with a smile as his Stoke City side cruise to a 2-0 win over Everton on Wednesday . He has signed with remarkable shrewdness, shaped his players into a cohesive style, and overcome the set-backs of regular injuries to key players to guide Stoke to 42 points after 28 games. His team registered 50 Premier League points in reaching ninth last term, two club records, but are currently in a rich vein of form and likely to go higher. Seven wins from 11 in the league have seen Stoke nudge past West Ham United and Swansea – both clubs with claims to good seasons. And all the while forking out less cash on recruits than Burnley. That is the bit to amaze. Hughes has committed £1.2million on bringing in new players this season: £800,000 on brilliant Bojan from Barcelona, and £400,000 on young centre-back Dionatan Teixeira from Slovakian side Dukla Banska Bystrica. Mame Biram Diouf, scorer against Everton to take his tally to seven Premier League goals? Free from Hannover. Jon Walters (centre) congratulates Mame Biram Diouf after he scored Stoke's second goal on Wednesday . Phil Bardsley, a regular at right-back with 22 Premier League games? Free from Sunderland. Steve Sidwell, who has been adept when called upon, also cost nothing after leaving Fulham. Victor Moses, whose uncommonly good header broke the deadlock at the Britannia on Wednesday, is on loan from Chelsea. Philipp Wollscheid, who has come into defence at a vital period to instant effect, is on loan from Bayer Leverkusen with view to permanent move this summer. By contrast Burnley, hardly the most lavish of spenders, have parted with around £8m on transfer fees. Michael Kightly was one of Sean Dyche’s purchases, at £1.5m, from Stoke. Stoke also sold Cameron Jerome to Norwich and Ryan Shotton to Derby County for a combined cost of £2m – so in all are around £2.3m up on net transfer spend. No wonder Hughes is being rewarded with a new three-year contract that he is expected to sign in the coming days. His connections, influence, and words of persuasion played a big part in producing such positive market returns. The acquisition of Bojan, once the rising star of Barcelona, was smoothed by Hughes’s association with the Catalan giants. The player’s glistening form before he suffered a cruel knee injury, after initial struggles, a testament to Hughes’s motivational skills. Bojan Krkic hit a rich vein of form before his season has ended by a knee ligament injury . Clearly the support network from chairman Peter Coates, a Stoke fan since a boy and generous benefactor, and chief executive Tony Scholes enables Hughes to work to his full potential. The foundations laid by Tony Pulis in getting Stoke up from the Championship seven years ago and stabilising the club as a Premier League presence will never be forgotten. But Hughes has built on that, altering the side’s style to please the eye while retaining the strength of conviction which made Pulis’s reign so successful. The four forwards in his 4-2-3-1 system are interchangeable, with Moses, Diouf, Bojan, Jon Walters, Marko Arnautovic, Stephen Ireland, Charlie Adam, and Peter Crouch forming various combinations throughout the campaign. No shining lights as such, they offer a mixture of pace, nimble dexterity, and brawn. Again the cost is worth noting. Arnautovic was £2m from Werder Bremen, Ireland a free from Aston Villa. Hughes’s other signings since taking charge have been Erik Pieters, £3m from PSV Eindhoven, Marc Muniesa, free from Barcelona, and Peter Odemwingie, a swap with Cardiff with Kenwyne Jones heading the other way. Chelsea loanee Victor Moses (right) celebrates scoring Stoke's opener against Everton . Hughes has spent £6.2m in four transfer windows and improved. In this climate that is phenomenal. Equivalent to one 10th of Angel Di Maria, let’s say. Stoke are not averse to opening the wallet. A £10m package for Xherdan Shaqiri was put together in January before the Swiss forward elected for Inter. But when Stoke have suffered injuries it has not provoked a sudden splurge. Bojan has been out since late January after rupturing his cruciate ligament and is not back until September. Odemwingie has been out the entire campaign with the same injury. Captain Ryan Shawcross has missed the last six weeks with a back injury and is not fit yet. Moses missed two months with a thigh problem, Glenn Whelan was sidelined for five weeks. Now Ireland is out with that gashed leg. Hughes has rebuilt his managerial reputation after a disastrous spell at QPR . There have been other knocks but these are important players absent for extended periods. Hughes has addressed each situation as arisen and found a formula to cope. When Muniesa and Marc Wilson were injured at the same time as Shawcross last month it looked foolhardy to have sent Robert Huth out on loan to Leicester. But Stoke adjusted and came through. After his disastrous spell at Queens Park Rangers, it appeared Hughes’s stock had fallen below Premier League level. Coates had faith and is being rewarded. Up next is a trip to face West Bromwich Albion and Pulis on March 14. Last year’ s Premier League manager of the year and former Stoke boss versus his successor in both respects? Victory for Hughes would only strengthen that argument.\", 'highlights': \"Stoke City is having a fantastic season, sitting eighth in the Premier League thanks to manager Mark Hughes. They've spent only £1.2 million on new players while overcoming injuries and outperforming teams that spent much more. Hughes's smart signings and tactical changes have revitalized the team, leading to a strong chance for their best finish yet. His success has earned him a new contract, and the upcoming match against West Brom will be a significant test.\", 'length': 50, 'style': 'formal', 'context': ''}) (input_keys={'document', 'context', 'style', 'length'}): litellm.RateLimitError: RateLimitError: OpenAIException - Error code: 429 - {'error': {'message': 'Rate limit reached for gpt-4o-mini in organization org-EmJQnOFD8xQufqyzTmGuZd73 on tokens per min (TPM): Limit 200000, Used 197848, Requested 2699. Please try again in 164ms. Visit https://platform.openai.com/account/rate-limits to learn more.', 'type': 'tokens', 'param': None, 'code': 'rate_limit_exceeded'}}. Set `provide_traceback=True` to see the stack trace.\n"
     ]
    },
    {
     "name": "stdout",
     "output_type": "stream",
     "text": [
      "Average Metric: 5.00 / 1 (500.0%):  38%|███▊      | 3/8 [00:05<00:06,  1.35s/it]"
     ]
    },
    {
     "name": "stderr",
     "output_type": "stream",
     "text": [
      "2024/12/07 18:25:01 ERROR dspy.utils.parallelizer: Error processing item Example({'document': \"Celtic defender Virgil van Dijk admits he feared his cup final dream had been wrecked by last week's red card at Tannadice. The Dutchman was sent-off during the Hoops' William Hill Scottish Cup quarter-final draw with Dundee United following an off-the-ball spat with the Taysider's Calum Butcher. Referee Craig Thompson sent-off Van Dijk before making a major gaffe when he wrongly dismissed Butcher's Terrors team-mate Paul Paton. Virgil van Dijk (2nd left) goes up for a header during Celtic's 2-0 Scottish League Cup final win . Hoops boss Ronny Deila celebrates winning his first piece of silverware since arriving at Parkhead . That left both men sweating on their places for Sunday's QTS Scottish League Cup showdown at Hampden. But there was relief for Van Dijk and Paton as they were later cleared to play after successful appeals to the Scottish Football Association's disciplinary panel. And it was the Celtic centre-half who was left bearing the brightest grin as his side clinched Ronny Deila's first trophy as Parkhead boss with a 2-0 win at the National Stadium. Van Dijk said: 'It was quite a tough week. I've never experienced anything like it in my life. 'It would have been very disappointing if I'd not been allowed to play on Sunday, especially with it being my first final ever. 'But you know, justice was served and I was able to play. Luckily I got the red card overturned and we did a good job.' The Dutch defender was sent off for a clash with Callum Butcher in Scottish Cup quarter finals . Van Dijk is sent off but was later cleared to play on Sunday following a successful appeal . Dundee United's Paul Paton also had his red card rescinded after being wrongly sent off . Van Dijk has been linked with summer moves to south, with Barclays Premier League high-flyers Arsenal and Southampton monitoring his progress. But for now the 23-year-old is happy to enjoy Celtic's treble chase. 'It means a lot to have lifted the League Cup,' he said. 'It's my first cup trophy ever. 'This club is an amazing place, I have always said that. I have been improving since the day came here. 'That is the most important thing for a player. If you win trophies, that's even better.' Kris Commons fired Celtic ahead midway through the first half before substitute James Forrest stroked home a second 12 minutes from time. The Hoops winger also had time to miss a late penalty as a United side that spent the last 35 minutes a man down following skipper Sean Dillon's red card avoided a heavier defeat. However, Jackie McNamara's team will go for revenge when the sides meet for part three of their four-game duel with Wednesday's Scottish Cup replay. Van Dijk said: 'We made it tough for ourselves on Sunday and should have finished the game faster in the second half. James Forrest celebrates scoring Celtic's second goal before missing a late penalty at Hampden . Scorer of Celtic's first goal, Kris Commons, celebrates with the trophy following Celtic's win . 'One-nil is a dangerous score - if they had scored one goal they would have had the believe to hit us with everything. 'At moments it looked tough but Craig Gordon only had one save to make in the first half and nothing in the second half, so I think we did well. 'It's a big boost for us ahead of Wednesday night. We can go for the second cup now full of confidence. 'They will be up for it on Wednesday night and know they have possibilities with the players coming back in to their team. 'But we need to be ready and win the game.'\", 'highlights': \"Virgil van Dijk was relieved to have his red card overturned, allowing him to play in Celtic's League Cup final, which they won 2-0. He celebrated his first trophy and emphasized the team's confidence as they prepare for their next match against Dundee United.\", 'length': 50, 'style': 'formal', 'context': ''}) (input_keys={'document', 'context', 'style', 'length'}): litellm.RateLimitError: RateLimitError: OpenAIException - Error code: 429 - {'error': {'message': 'Rate limit reached for gpt-4o-mini in organization org-EmJQnOFD8xQufqyzTmGuZd73 on tokens per min (TPM): Limit 200000, Used 198476, Requested 2357. Please try again in 249ms. Visit https://platform.openai.com/account/rate-limits to learn more.', 'type': 'tokens', 'param': None, 'code': 'rate_limit_exceeded'}}. Set `provide_traceback=True` to see the stack trace.\n"
     ]
    },
    {
     "name": "stdout",
     "output_type": "stream",
     "text": [
      "Average Metric: 5.00 / 1 (500.0%):  50%|█████     | 4/8 [00:05<00:03,  1.01it/s]"
     ]
    },
    {
     "name": "stderr",
     "output_type": "stream",
     "text": [
      "2024/12/07 18:25:02 ERROR dspy.utils.parallelizer: Error processing item Example({'document': \"Ronda Rousey recorded the fastest-ever finish in a UFC title fight as she submitted Cat Zingano after just 14 seconds in Los Angeles. Rousey was expected to face the toughest examination of her reign as bantamweight champion against the unbeaten Zingano. But having avoided a flying knee in the opening seconds, Rousey took her opponent down and set to work trying to execute her trademark armbar. Scroll down to watch Rousey beat Zingano in 14 seconds . Ronda Rousey manoeuvres herself into position to submit Cat Zingano after 14 seconds of their fight . Rousey attempts to lock in her trademark arm bar finish as she defended her bantamweight title . Rousey consoles Zingano after her stunning victory inside 14 seconds at the Staples Center in Los Angeles . Rousey grapples with Zingano before celebrating in the Octagon after her record-breaking victory . Ronda Rousey bt Cat Zingano via sub . Holly Holm bt Raquel Pennington via SD . Jake Ellenberger bt Josh Koscheck via sub . Alan Jouban bt Richard Walsh via KO . Tony Ferguson bt Gleison Tibau via sub . Roan Carneiro bt Mark Munoz via sub . Roman Salazar bt Norifumi Yamamoto N/C . Tim Means bt Dhiego Lima via TKO . Derrick Lewis bt Ruan Potts via TKO . Valmir Lazaro bt James Krause via SD . Masio Fullen bt Alexander Torres via SD . Rousey had landed on her head but the champion gracefully flipped Zingano on to her back, got up and manoeuvred swiftly into position to wrench Zingano's arm grotesquely. Rousey forced the challenger to tap out. 'We were expecting that she might come out and do something flying at me right away,' Rousey said. 'That's not usually how you land an armbar at that angle, but it works. It was a lot like judo transitions, where you scramble the second you hit the ground. 'I made that up on the fly, to be honest. But it was kind of funny: We were going toward the ground, and I kind of reverted back to judo mode and was thinking, 'Don't touch your back. It's a point.' 'That's where the acrobatic thing came from, was thinking about not touching your back in judo.' It was hard to work out who was more stunned, Zingano or the sell-out 17,000-crowd at the Staples Center. 'She's really good ... but that wouldn't happen again,' the beaten challenger said. 'It was a knee and then a throw and then a scramble, and then she was wrapped around my arm. I got caught. I was ready to do a million different things. I planned on getting in a fist fight tonight.' Zingano looks in pain as Rousey moves herself into position to execute the armbar finish . Rousey has won all 11 of her mixed martial arts fights and all but one inside the first round . Rousey celebrates as Zingano is attended to by the referee following her early defeat in Los Angeles . Dublin featherweight Conor McGregor (left) and light-heavyweight champion Jon Jones were in attendance . Former UFC heavyweight champion Brock Lesnar was Octagon side as Rousey eased to victory . For the first time in the promotion's history, two women's fights headlined a pay-per-view event as boxer Holly Holm made her debut with a split-decision victory over Raquel Pennington in the co-main event. Middleweight champion Chris Weidman originally was scheduled to fight Vitor Belfort but had to withdraw injured. Zingano had earned her title shot two years ago with an upset victory over Miesha Tate, but was forced to wait after suffering a serious knee injury before she was hit by her estranged husband's suicide last year. Holm, meanwhile, ended an 11-year pro boxing career to concentrate on MMA two years ago but looked far from the complete package against Pennington. Both fighters landed big shots during a stand-up fight, and while Holm finished with a bloody nose, she left Pennington with a swollen left eye. UFC Octagon girls Vanessa Hanson, Brittney Palmer, Arianny Celeste and Chrissy Blair pose for pictures . Vanessa and Brittney introduce the first round of the respective fights during UFC 184 in Los Angeles . Holly Holm (right) made a winning debut with a split-decision victory over Raquel Pennington . Holm moved from a boxing career to mixed martial arts and remains unbeaten . Pennington lands a left hand on Holm as she battled hard only to lose by split decision . Actresses Mandy Moore (left) and Minka Kelly pose for a photograph during the UFC 184 event . Vin Diesel was also at the Staples Center (left) as UFC president Dana White poses with Mark Wahlberg .\", 'highlights': 'Ronda Rousey made history by submitting Cat Zingano in just 14 seconds at UFC 184 in Los Angeles. After avoiding a flying knee, Rousey quickly took Zingano down and locked in her signature armbar. The crowd was stunned by the rapid finish, and Rousey celebrated her 11th win in MMA, all but one in the first round.', 'length': 50, 'style': 'formal', 'context': ''}) (input_keys={'document', 'context', 'style', 'length'}): litellm.RateLimitError: RateLimitError: OpenAIException - Error code: 429 - {'error': {'message': 'Rate limit reached for gpt-4o-mini in organization org-EmJQnOFD8xQufqyzTmGuZd73 on tokens per min (TPM): Limit 200000, Used 198509, Requested 2549. Please try again in 317ms. Visit https://platform.openai.com/account/rate-limits to learn more.', 'type': 'tokens', 'param': None, 'code': 'rate_limit_exceeded'}}. Set `provide_traceback=True` to see the stack trace.\n"
     ]
    },
    {
     "name": "stdout",
     "output_type": "stream",
     "text": [
      "Average Metric: 20.00 / 4 (500.0%): 100%|██████████| 8/8 [00:07<00:00,  1.02it/s]"
     ]
    },
    {
     "name": "stderr",
     "output_type": "stream",
     "text": [
      "2024/12/07 18:25:04 INFO dspy.evaluate.evaluate: Average Metric: 20.0 / 8 (250.0%)\n",
      "2024/12/07 18:25:04 INFO dspy.teleprompt.mipro_optimizer_v2: Score: 250.0 with parameters ['Predictor 0: Instruction 0', 'Predictor 0: Few-Shot Set 1'].\n",
      "2024/12/07 18:25:04 INFO dspy.teleprompt.mipro_optimizer_v2: Scores so far: [468.75, 687.5, 625.0, 718.75, 593.75, 531.25, 250.0]\n",
      "2024/12/07 18:25:04 INFO dspy.teleprompt.mipro_optimizer_v2: Best score so far: 718.75\n",
      "2024/12/07 18:25:04 INFO dspy.teleprompt.mipro_optimizer_v2: =======================\n",
      "\n",
      "\n",
      "2024/12/07 18:25:04 INFO dspy.teleprompt.mipro_optimizer_v2: ===== Trial 7 / 7 =====\n"
     ]
    },
    {
     "name": "stdout",
     "output_type": "stream",
     "text": [
      "\n",
      "Average Metric: 7.50 / 1 (750.0%):  12%|█▎        | 1/8 [00:04<00:32,  4.59s/it]"
     ]
    },
    {
     "name": "stderr",
     "output_type": "stream",
     "text": [
      "2024/12/07 18:25:09 ERROR dspy.utils.parallelizer: Error processing item Example({'document': \"Avid rugby fan Prince Harry could barely watch as England came up just short of the 26-point margin needed to win their first Six Nations since 2011 in a pulsating match at Twickenham. In a breathtaking spectacle, England defeated France 55-35 in 'Le Crunch' - just six points short of the total required to lift the trophy. Sporting a navy blue suit, the fourth-in-line to the throne squirmed in his seat as England got off to a difficult start, despite an early try. Scroll down for video . Stress: The Prince can barely watch as England beat France 55-35 but narrowly missed out on the Six Nations . Taking its toll: Harry looks anxious as England struggled to cope with France's impressive start to the match . Passion: Prince Harry belts out the national anthem, seated behind England coach Stuart Lancaster . Despite their herculean effort, England could not find a final try and finished second in the championship, behind Ireland. After the match, England head coach Stuart Lancaster praised his side for 'one of the most courageous performances' he has seen from his side. 'It will go down as one of the great games of rugby,' he added. Earlier in the day, Ireland thrashed\\xa040-10 in Edinburgh to mark a dismal campaign for the Scots and an impressive Wales ran riot in Rome, thumping Italy 61-20. All smiles: The fourth-in-line to the throne grins alongside students from Reigate School, in Surrey . Before England's crunch match against France, Prince Harry had met girls from Reigate School and The Quest Academy, Croydon, who had played in the warm-up game. Harry - who is a Vice Patron of the Rugby Football Union (RFU) - also chatted with members of the armed forces at Twickenham . Looking dapper in his navy suit, the fourth-in-line to the throne then took his seat in the stand before singing the national anthem with gusto. Patriotic: Harry chats to a member of the army - he announced this week he will quit the army in the summer . Pointing the way: The Prince is an avid rugby fan - England and Wales host the World Cup later this year . Suave: Harry, in a sharp navy suit, walks along the side of the hallowed Twickenham turf before the match . The Six Nations is the last competitive rugby tournament before England host the World Cup later this year. The tournament begins on September 18 with England taking on Fiji at Twickenham. In 2014 Prince Harry was named as patron of the RFU's All Schools campaign, which aims to bring rugby to 750 more schools by the Rugby World Cup in 2019. Looking up: Prince Harry takes his seat in the stands with\\xa0Bernard Lapasset, left, chairman of the IRB . Role model: Harry chats to students from Reigate School, who had played before England's match vs France . Charismatic: The Prince - patron of the RFU's All Schools campaign, jokes with the girls before a photo shoot . He is also Patron of the RFU Injured Players Foundation. Although one of the most prominent royal rugby fans (he was famously in attendance when England lifted the Webb Ellis Cup in Australia in 2003), the Prince is by no means the only one. His brother Prince William is also a fan and enjoys a similar position at the Welsh RFU while the\\xa0Princess Royal is patron of Scottish rugby and regularly appears at Murrayfield on match day.\", 'highlights': 'Prince Harry, an avid rugby fan, watched anxiously as England narrowly lost the Six Nations title despite defeating France 55-35. England finished second behind Ireland, with the match celebrated as a courageous performance. The Prince, a patron of the Rugby Football Union, actively engages in promoting rugby in schools.', 'length': 50, 'style': 'formal', 'context': ''}) (input_keys={'document', 'context', 'style', 'length'}): litellm.RateLimitError: RateLimitError: OpenAIException - Error code: 429 - {'error': {'message': 'Rate limit reached for gpt-4o-mini in organization org-EmJQnOFD8xQufqyzTmGuZd73 on tokens per min (TPM): Limit 200000, Used 199488, Requested 2800. Please try again in 686ms. Visit https://platform.openai.com/account/rate-limits to learn more.', 'type': 'tokens', 'param': None, 'code': 'rate_limit_exceeded'}}. Set `provide_traceback=True` to see the stack trace.\n"
     ]
    },
    {
     "name": "stdout",
     "output_type": "stream",
     "text": [
      "Average Metric: 12.50 / 2 (625.0%):  38%|███▊      | 3/8 [00:05<00:07,  1.45s/it]"
     ]
    },
    {
     "name": "stderr",
     "output_type": "stream",
     "text": [
      "2024/12/07 18:25:10 ERROR dspy.utils.parallelizer: Error processing item Example({'document': \"Ronda Rousey recorded the fastest-ever finish in a UFC title fight as she submitted Cat Zingano after just 14 seconds in Los Angeles. Rousey was expected to face the toughest examination of her reign as bantamweight champion against the unbeaten Zingano. But having avoided a flying knee in the opening seconds, Rousey took her opponent down and set to work trying to execute her trademark armbar. Scroll down to watch Rousey beat Zingano in 14 seconds . Ronda Rousey manoeuvres herself into position to submit Cat Zingano after 14 seconds of their fight . Rousey attempts to lock in her trademark arm bar finish as she defended her bantamweight title . Rousey consoles Zingano after her stunning victory inside 14 seconds at the Staples Center in Los Angeles . Rousey grapples with Zingano before celebrating in the Octagon after her record-breaking victory . Ronda Rousey bt Cat Zingano via sub . Holly Holm bt Raquel Pennington via SD . Jake Ellenberger bt Josh Koscheck via sub . Alan Jouban bt Richard Walsh via KO . Tony Ferguson bt Gleison Tibau via sub . Roan Carneiro bt Mark Munoz via sub . Roman Salazar bt Norifumi Yamamoto N/C . Tim Means bt Dhiego Lima via TKO . Derrick Lewis bt Ruan Potts via TKO . Valmir Lazaro bt James Krause via SD . Masio Fullen bt Alexander Torres via SD . Rousey had landed on her head but the champion gracefully flipped Zingano on to her back, got up and manoeuvred swiftly into position to wrench Zingano's arm grotesquely. Rousey forced the challenger to tap out. 'We were expecting that she might come out and do something flying at me right away,' Rousey said. 'That's not usually how you land an armbar at that angle, but it works. It was a lot like judo transitions, where you scramble the second you hit the ground. 'I made that up on the fly, to be honest. But it was kind of funny: We were going toward the ground, and I kind of reverted back to judo mode and was thinking, 'Don't touch your back. It's a point.' 'That's where the acrobatic thing came from, was thinking about not touching your back in judo.' It was hard to work out who was more stunned, Zingano or the sell-out 17,000-crowd at the Staples Center. 'She's really good ... but that wouldn't happen again,' the beaten challenger said. 'It was a knee and then a throw and then a scramble, and then she was wrapped around my arm. I got caught. I was ready to do a million different things. I planned on getting in a fist fight tonight.' Zingano looks in pain as Rousey moves herself into position to execute the armbar finish . Rousey has won all 11 of her mixed martial arts fights and all but one inside the first round . Rousey celebrates as Zingano is attended to by the referee following her early defeat in Los Angeles . Dublin featherweight Conor McGregor (left) and light-heavyweight champion Jon Jones were in attendance . Former UFC heavyweight champion Brock Lesnar was Octagon side as Rousey eased to victory . For the first time in the promotion's history, two women's fights headlined a pay-per-view event as boxer Holly Holm made her debut with a split-decision victory over Raquel Pennington in the co-main event. Middleweight champion Chris Weidman originally was scheduled to fight Vitor Belfort but had to withdraw injured. Zingano had earned her title shot two years ago with an upset victory over Miesha Tate, but was forced to wait after suffering a serious knee injury before she was hit by her estranged husband's suicide last year. Holm, meanwhile, ended an 11-year pro boxing career to concentrate on MMA two years ago but looked far from the complete package against Pennington. Both fighters landed big shots during a stand-up fight, and while Holm finished with a bloody nose, she left Pennington with a swollen left eye. UFC Octagon girls Vanessa Hanson, Brittney Palmer, Arianny Celeste and Chrissy Blair pose for pictures . Vanessa and Brittney introduce the first round of the respective fights during UFC 184 in Los Angeles . Holly Holm (right) made a winning debut with a split-decision victory over Raquel Pennington . Holm moved from a boxing career to mixed martial arts and remains unbeaten . Pennington lands a left hand on Holm as she battled hard only to lose by split decision . Actresses Mandy Moore (left) and Minka Kelly pose for a photograph during the UFC 184 event . Vin Diesel was also at the Staples Center (left) as UFC president Dana White poses with Mark Wahlberg .\", 'highlights': 'Ronda Rousey made history by submitting Cat Zingano in just 14 seconds at UFC 184 in Los Angeles. After avoiding a flying knee, Rousey quickly took Zingano down and locked in her signature armbar. The crowd was stunned by the rapid finish, and Rousey celebrated her 11th win in MMA, all but one in the first round.', 'length': 50, 'style': 'formal', 'context': ''}) (input_keys={'document', 'context', 'style', 'length'}): litellm.RateLimitError: RateLimitError: OpenAIException - Error code: 429 - {'error': {'message': 'Rate limit reached for gpt-4o-mini in organization org-EmJQnOFD8xQufqyzTmGuZd73 on tokens per min (TPM): Limit 200000, Used 199758, Requested 3091. Please try again in 854ms. Visit https://platform.openai.com/account/rate-limits to learn more.', 'type': 'tokens', 'param': None, 'code': 'rate_limit_exceeded'}}. Set `provide_traceback=True` to see the stack trace.\n"
     ]
    },
    {
     "name": "stdout",
     "output_type": "stream",
     "text": [
      "Average Metric: 17.50 / 3 (583.3%):  50%|█████     | 4/8 [00:06<00:04,  1.06s/it]"
     ]
    },
    {
     "name": "stderr",
     "output_type": "stream",
     "text": [
      "2024/12/07 18:25:11 ERROR dspy.utils.parallelizer: Error processing item Example({'document': \"The team with the lowest transfer outlay this season rose unassumingly into eighth place on Wednesday night. Stoke City beat Everton, to nobody’s great surprise, and look on course for their best Premier League finish yet – a year after their last. Mark Hughes really should be in the running for those annual accolades saluting success amid all this. Manager of the Year? Quite possibly. Mark Hughes looks on with a smile as his Stoke City side cruise to a 2-0 win over Everton on Wednesday . He has signed with remarkable shrewdness, shaped his players into a cohesive style, and overcome the set-backs of regular injuries to key players to guide Stoke to 42 points after 28 games. His team registered 50 Premier League points in reaching ninth last term, two club records, but are currently in a rich vein of form and likely to go higher. Seven wins from 11 in the league have seen Stoke nudge past West Ham United and Swansea – both clubs with claims to good seasons. And all the while forking out less cash on recruits than Burnley. That is the bit to amaze. Hughes has committed £1.2million on bringing in new players this season: £800,000 on brilliant Bojan from Barcelona, and £400,000 on young centre-back Dionatan Teixeira from Slovakian side Dukla Banska Bystrica. Mame Biram Diouf, scorer against Everton to take his tally to seven Premier League goals? Free from Hannover. Jon Walters (centre) congratulates Mame Biram Diouf after he scored Stoke's second goal on Wednesday . Phil Bardsley, a regular at right-back with 22 Premier League games? Free from Sunderland. Steve Sidwell, who has been adept when called upon, also cost nothing after leaving Fulham. Victor Moses, whose uncommonly good header broke the deadlock at the Britannia on Wednesday, is on loan from Chelsea. Philipp Wollscheid, who has come into defence at a vital period to instant effect, is on loan from Bayer Leverkusen with view to permanent move this summer. By contrast Burnley, hardly the most lavish of spenders, have parted with around £8m on transfer fees. Michael Kightly was one of Sean Dyche’s purchases, at £1.5m, from Stoke. Stoke also sold Cameron Jerome to Norwich and Ryan Shotton to Derby County for a combined cost of £2m – so in all are around £2.3m up on net transfer spend. No wonder Hughes is being rewarded with a new three-year contract that he is expected to sign in the coming days. His connections, influence, and words of persuasion played a big part in producing such positive market returns. The acquisition of Bojan, once the rising star of Barcelona, was smoothed by Hughes’s association with the Catalan giants. The player’s glistening form before he suffered a cruel knee injury, after initial struggles, a testament to Hughes’s motivational skills. Bojan Krkic hit a rich vein of form before his season has ended by a knee ligament injury . Clearly the support network from chairman Peter Coates, a Stoke fan since a boy and generous benefactor, and chief executive Tony Scholes enables Hughes to work to his full potential. The foundations laid by Tony Pulis in getting Stoke up from the Championship seven years ago and stabilising the club as a Premier League presence will never be forgotten. But Hughes has built on that, altering the side’s style to please the eye while retaining the strength of conviction which made Pulis’s reign so successful. The four forwards in his 4-2-3-1 system are interchangeable, with Moses, Diouf, Bojan, Jon Walters, Marko Arnautovic, Stephen Ireland, Charlie Adam, and Peter Crouch forming various combinations throughout the campaign. No shining lights as such, they offer a mixture of pace, nimble dexterity, and brawn. Again the cost is worth noting. Arnautovic was £2m from Werder Bremen, Ireland a free from Aston Villa. Hughes’s other signings since taking charge have been Erik Pieters, £3m from PSV Eindhoven, Marc Muniesa, free from Barcelona, and Peter Odemwingie, a swap with Cardiff with Kenwyne Jones heading the other way. Chelsea loanee Victor Moses (right) celebrates scoring Stoke's opener against Everton . Hughes has spent £6.2m in four transfer windows and improved. In this climate that is phenomenal. Equivalent to one 10th of Angel Di Maria, let’s say. Stoke are not averse to opening the wallet. A £10m package for Xherdan Shaqiri was put together in January before the Swiss forward elected for Inter. But when Stoke have suffered injuries it has not provoked a sudden splurge. Bojan has been out since late January after rupturing his cruciate ligament and is not back until September. Odemwingie has been out the entire campaign with the same injury. Captain Ryan Shawcross has missed the last six weeks with a back injury and is not fit yet. Moses missed two months with a thigh problem, Glenn Whelan was sidelined for five weeks. Now Ireland is out with that gashed leg. Hughes has rebuilt his managerial reputation after a disastrous spell at QPR . There have been other knocks but these are important players absent for extended periods. Hughes has addressed each situation as arisen and found a formula to cope. When Muniesa and Marc Wilson were injured at the same time as Shawcross last month it looked foolhardy to have sent Robert Huth out on loan to Leicester. But Stoke adjusted and came through. After his disastrous spell at Queens Park Rangers, it appeared Hughes’s stock had fallen below Premier League level. Coates had faith and is being rewarded. Up next is a trip to face West Bromwich Albion and Pulis on March 14. Last year’ s Premier League manager of the year and former Stoke boss versus his successor in both respects? Victory for Hughes would only strengthen that argument.\", 'highlights': \"Stoke City is having a fantastic season, sitting eighth in the Premier League thanks to manager Mark Hughes. They've spent only £1.2 million on new players while overcoming injuries and outperforming teams that spent much more. Hughes's smart signings and tactical changes have revitalized the team, leading to a strong chance for their best finish yet. His success has earned him a new contract, and the upcoming match against West Brom will be a significant test.\", 'length': 50, 'style': 'formal', 'context': ''}) (input_keys={'document', 'context', 'style', 'length'}): litellm.RateLimitError: RateLimitError: OpenAIException - Error code: 429 - {'error': {'message': 'Rate limit reached for gpt-4o-mini in organization org-EmJQnOFD8xQufqyzTmGuZd73 on tokens per min (TPM): Limit 200000, Used 198486, Requested 3413. Please try again in 569ms. Visit https://platform.openai.com/account/rate-limits to learn more.', 'type': 'tokens', 'param': None, 'code': 'rate_limit_exceeded'}}. Set `provide_traceback=True` to see the stack trace.\n"
     ]
    },
    {
     "name": "stdout",
     "output_type": "stream",
     "text": [
      "Average Metric: 27.50 / 5 (550.0%): 100%|██████████| 8/8 [00:08<00:00,  1.07s/it]"
     ]
    },
    {
     "name": "stderr",
     "output_type": "stream",
     "text": [
      "2024/12/07 18:25:12 INFO dspy.evaluate.evaluate: Average Metric: 27.5 / 8 (343.8%)\n",
      "2024/12/07 18:25:12 INFO dspy.teleprompt.mipro_optimizer_v2: Score: 343.75 with parameters ['Predictor 0: Instruction 4', 'Predictor 0: Few-Shot Set 4'].\n",
      "2024/12/07 18:25:12 INFO dspy.teleprompt.mipro_optimizer_v2: Scores so far: [468.75, 687.5, 625.0, 718.75, 593.75, 531.25, 250.0, 343.75]\n",
      "2024/12/07 18:25:12 INFO dspy.teleprompt.mipro_optimizer_v2: Best score so far: 718.75\n",
      "2024/12/07 18:25:12 INFO dspy.teleprompt.mipro_optimizer_v2: =======================\n",
      "\n",
      "\n",
      "2024/12/07 18:25:12 INFO dspy.teleprompt.mipro_optimizer_v2: Returning best identified program with score 718.75!\n"
     ]
    },
    {
     "name": "stdout",
     "output_type": "stream",
     "text": [
      "\n"
     ]
    }
   ],
   "source": [
    "from dspy_utils import metric, PersonalizedSummary\n",
    "summarizer=dspy.ChainOfThought(PersonalizedSummary)\n",
    "\n",
    "tp = dspy.MIPROv2(metric=metric, auto=\"light\", num_threads=24)\n",
    "optimized_summarizer = tp.compile(summarizer, trainset=trainset)"
   ]
  },
  {
   "cell_type": "code",
   "execution_count": 4,
   "metadata": {},
   "outputs": [],
   "source": [
    "optimized_summarizer.save(\"optimized_summarizer_miprov2\")\n"
   ]
  },
  {
   "cell_type": "code",
   "execution_count": 5,
   "metadata": {},
   "outputs": [
    {
     "data": {
      "text/plain": [
       "Prediction(\n",
       "    reasoning=\"To summarize the document effectively, I focused on the key technological innovations introduced by BAE Systems' Broadsword range, particularly the Spine vest. I identified its primary functions, such as wireless charging, data transfer capabilities, and its integration with other devices like the Q-Warrior augmented reality headset. I also noted its implications for military use and potential applications in other sectors, such as emergency services. The summary was crafted to convey these essential points succinctly while adhering to the specified length and maintaining a formal tone.\",\n",
       "    summary=\"BAE Systems' Broadsword range features the Spine vest, utilizing e-textiles for wireless charging of military devices. It supports data transfer and integrates with the Q-Warrior augmented reality headset. While designed for armed forces, it may benefit fire and rescue services as well.\"\n",
       ")"
      ]
     },
     "execution_count": 5,
     "metadata": {},
     "output_type": "execute_result"
    }
   ],
   "source": [
    "summarizer=dspy.ChainOfThought(PersonalizedSummary)\n",
    "summarizer.load(\"./optimized_summarizer_miprov2\")\n",
    "summarizer(document=val_dataset.iloc[0]['article'],length=50,style='formal',context=\"\")"
   ]
  },
  {
   "cell_type": "code",
   "execution_count": 6,
   "metadata": {},
   "outputs": [
    {
     "name": "stdout",
     "output_type": "stream",
     "text": [
      "\n",
      "\n",
      "\n",
      "\n",
      "\u001b[34m[2024-12-07T18:26:29.574875]\u001b[0m\n",
      "\n",
      "\u001b[31mSystem message:\u001b[0m\n",
      "\n",
      "Your input fields are:\n",
      "1. `document` (str): The document to summarize\n",
      "2. `length` (int): The maximum length of the summary\n",
      "3. `style` (str): The style of the summary, like 'formal', 'casual'\n",
      "4. `context` (str): May contain relevant facts\n",
      "\n",
      "Your output fields are:\n",
      "1. `reasoning` (str)\n",
      "2. `summary` (str): The summary of the document\n",
      "\n",
      "All interactions will be structured in the following way, with the appropriate values filled in.\n",
      "\n",
      "[[ ## document ## ]]\n",
      "{document}\n",
      "\n",
      "[[ ## length ## ]]\n",
      "{length}\n",
      "\n",
      "[[ ## style ## ]]\n",
      "{style}\n",
      "\n",
      "[[ ## context ## ]]\n",
      "{context}\n",
      "\n",
      "[[ ## reasoning ## ]]\n",
      "{reasoning}\n",
      "\n",
      "[[ ## summary ## ]]\n",
      "{summary}\n",
      "\n",
      "[[ ## completed ## ]]\n",
      "\n",
      "In adhering to this structure, your objective is: \n",
      "        Using the provided fields `document`, `length`, `style`, and `context`, generate a concise and coherent summary of the document that highlights the main points and key contributions of the individual mentioned. Ensure that the summary adheres to the specified `length` and maintains the `style` of writing as formal. Additionally, provide a step-by-step reasoning of how you derived the summary, explaining the thought process behind capturing the essential elements of the document.\n",
      "\n",
      "\n",
      "\u001b[31mUser message:\u001b[0m\n",
      "\n",
      "[[ ## document ## ]]\n",
      "British troops could soon head into battle kitted out in the latest state-of-the-art wearable technology. BAE Systems has created its Broadsword range of devices that revolve around a vest called Spine. Spine uses so-called e-textiles to wirelessly charge military equipment - and this energy use can be monitored using a smartphone app. BAE Systems has created its Broadsword range of devices (pictured) that revolve around a vest called Spine. Spine uses so-called e-textiles to wirelessly charge military equipment and gets its energy from an inductive charging seat All of this energy use can then be monitored using a smartphone app . Other equipment in the range includes the Q-Warrior augmented reality headset and car seats that wirelessly charge the wearable technology. Spine was developed by the London-based defence firm with Surrey-based Intelligent Textiles Design. It can power up and transfer data to and from equipment such as radios, cameras, smart helmets and torches, as well as smart weapons - effectively working as a portable hotspot. Spine was developed by the London-based defence firm with Surrey-based Intelligent Textiles Design. It can power up and transfer data to and from equipment such as radios, cameras, smart helmets and torches, as well as smart weapons - effectively working as a portable hotspot . Eight devices can be plugged in and charged at any one time, and the vest's electrically conductive yarns can also be used to charge other gadgets wirelessly. This image is a grab from the Spine's connected app. It shows how much power the vest, and individual gadgets, have . A total of eight devices can be plugged in and charged at any one time, and the vest's electrically conductive yarns can also be used to charge other gadgets wirelessly. BAE Systems' Broadsword range of devices  revolve around a vest called Spine. Spine uses e-textiles to wirelessly charge military equipment - and this energy use can be monitored using a smartphone app. Eight devices can be plugged in and charged at any one time, and the vest's electrically conductive yarns can also be used to charge other gadgets wirelessly. Elsewhere, the Q-Warrior see-through augmented reality display integrates with the Spine and smartphone to overlay useful information such as GPS locations, temperatures and other data. BAE has additionally created an inductive seat charger that automatically transfers energy from a vehicle to the vest. This means the Spine never runs out of energy and can be charged as soldiers travel around battle zones. And all this power usage can be managed using a smartphone app. Elsewhere, the Q-Warrior see-through augmented reality display integrates with the Spine and smartphone to overlay useful information such as GPS locations, temperatures and other data. BAE and Intelligent Textiles Design said that although the technology is designed for the armed forces - and conforms to the standards set by the Ministry of Defence - it could also be used by fire and rescue services and the police. The inductive charging equipment pouches (pictured) provide power to equipment batteries from the Spine. The power is inductively transferred into the equipment through a modified attachment . Elsewhere, the Q-Warrior see-through augmented reality display integrates with the Spine power and network to overlay interesting information such as GPS locations, temperatures and other data . 'Current integration of body worn equipment has not been addressed as a platform design and has resulted in an unwieldy cable harness,' said BAE. 'The weight of current equipment carried by the soldier is far in excess of what is considered fit for purpose. Broadsword is a product family of interconnecting components for the next generation of soldier systems. '[It] delivers ground breaking technology to the 21st century warfighter.' BAE and Intelligent Textiles Design said that although the technology is designed for the armed forces (illustrated) - and conforms to the standards set by the Ministry of Defence - it could also be used by fire and rescue services, and the police .\n",
      "\n",
      "[[ ## length ## ]]\n",
      "50\n",
      "\n",
      "[[ ## style ## ]]\n",
      "formal\n",
      "\n",
      "[[ ## context ## ]]\n",
      "\n",
      "\n",
      "Respond with the corresponding output fields, starting with the field `[[ ## reasoning ## ]]`, then `[[ ## summary ## ]]`, and then ending with the marker for `[[ ## completed ## ]]`.\n",
      "\n",
      "\n",
      "\u001b[31mResponse:\u001b[0m\n",
      "\n",
      "\u001b[32m[[ ## reasoning ## ]]\n",
      "To summarize the document effectively, I focused on the key technological innovations introduced by BAE Systems' Broadsword range, particularly the Spine vest. I identified its primary functions, such as wireless charging, data transfer capabilities, and its integration with other devices like the Q-Warrior augmented reality headset. I also noted its implications for military use and potential applications in other sectors, such as emergency services. The summary was crafted to convey these essential points succinctly while adhering to the specified length and maintaining a formal tone.\n",
      "\n",
      "[[ ## summary ## ]]\n",
      "BAE Systems' Broadsword range features the Spine vest, utilizing e-textiles for wireless charging of military devices. It supports data transfer and integrates with the Q-Warrior augmented reality headset. While designed for armed forces, it may benefit fire and rescue services as well.\n",
      "\n",
      "[[ ## completed ## ]]\u001b[0m\n",
      "\n",
      "\n",
      "\n",
      "\n",
      "\n"
     ]
    }
   ],
   "source": [
    "dspy.inspect_history(n=1)"
   ]
  }
 ],
 "metadata": {
  "kernelspec": {
   "display_name": "textsum",
   "language": "python",
   "name": "python3"
  },
  "language_info": {
   "codemirror_mode": {
    "name": "ipython",
    "version": 3
   },
   "file_extension": ".py",
   "mimetype": "text/x-python",
   "name": "python",
   "nbconvert_exporter": "python",
   "pygments_lexer": "ipython3",
   "version": "3.10.15"
  }
 },
 "nbformat": 4,
 "nbformat_minor": 2
}
